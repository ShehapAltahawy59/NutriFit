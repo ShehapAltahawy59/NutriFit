{
 "cells": [
  {
   "cell_type": "code",
   "execution_count": 24,
   "metadata": {},
   "outputs": [],
   "source": [
    "from dotenv import load_dotenv\n",
    "load_dotenv(override=True)\n",
    "from autogen_core.models import UserMessage\n",
    "from autogen_ext.auth.azure import AzureTokenProvider\n",
    "from autogen_ext.models.openai import AzureOpenAIChatCompletionClient\n",
    "from azure.identity import DefaultAzureCredential\n",
    "import os\n",
    "\n",
    "\n",
    "endpoint   = os.environ[\"AZURE_OPENAI_ENDPOINT\"]\n",
    "api_key    = os.environ[\"AZURE_OPENAI_API_KEY\"]\n",
    "api_ver    = os.environ[\"AZURE_OPENAI_API_VERSION\"]\n",
    "deployment = os.environ[\"AZURE_OPENAI_DEPLOYMENT\"]\n",
    "\n",
    "az_model_client = AzureOpenAIChatCompletionClient(\n",
    "    azure_deployment=deployment,\n",
    "    model=deployment,\n",
    "    api_version=api_ver,\n",
    "    azure_endpoint=endpoint,\n",
    "    api_key=api_key, # For key-based authentication.\n",
    ")"
   ]
  },
  {
   "cell_type": "code",
   "execution_count": 26,
   "metadata": {},
   "outputs": [
    {
     "data": {
      "text/plain": [
       "'Sure! Buckle up for a jolly good time in London:  \\n- Flight: Your magic carpet departs from your location to London Heathrow.  \\n- Duration: About 7 hours of airborne tea and crumpet anticipation.  \\n- Onboard Entertainment: Watch the clouds, or perhaps practice your royal wave!  \\n- Arrival: Welcome to the land of Big Ben, red buses, and endless cups of tea.  \\nReady for takeoff? Don’t forget your umbrella – British weather loves a surprise!'"
      ]
     },
     "execution_count": 26,
     "metadata": {},
     "output_type": "execute_result"
    }
   ],
   "source": [
    "from autogen_agentchat.messages import TextMessage\n",
    "message = TextMessage(content=\"I'd like to go to London give me the trip details\", source=\"user\")\n",
    "message\n",
    "\n",
    "from autogen_agentchat.agents import AssistantAgent\n",
    "\n",
    "agent = AssistantAgent(\n",
    "    name=\"airline_agent\",\n",
    "    model_client=az_model_client,\n",
    "    system_message=\"You are a helpful assistant for an airline. You give short, humorous answers.\",\n",
    "    model_client_stream=True\n",
    ")\n",
    "\n",
    "from autogen_core import CancellationToken\n",
    "\n",
    "response = await agent.on_messages([message], cancellation_token=CancellationToken())\n",
    "response.chat_message.content"
   ]
  },
  {
   "cell_type": "code",
   "execution_count": null,
   "metadata": {},
   "outputs": [],
   "source": []
  }
 ],
 "metadata": {
  "kernelspec": {
   "display_name": "Python 3.12.2 ('test_env')",
   "language": "python",
   "name": "python3"
  },
  "language_info": {
   "codemirror_mode": {
    "name": "ipython",
    "version": 3
   },
   "file_extension": ".py",
   "mimetype": "text/x-python",
   "name": "python",
   "nbconvert_exporter": "python",
   "pygments_lexer": "ipython3",
   "version": "3.12.2"
  },
  "orig_nbformat": 4,
  "vscode": {
   "interpreter": {
    "hash": "1bda217fdb646c94717e1bc1a7992c38c1b540f6827299e77afd917180550866"
   }
  }
 },
 "nbformat": 4,
 "nbformat_minor": 2
}
